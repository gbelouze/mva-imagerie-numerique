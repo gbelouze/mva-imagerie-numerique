{
 "cells": [
  {
   "cell_type": "code",
   "execution_count": null,
   "id": "4e7fa933-3de5-4163-b8d5-52e902201128",
   "metadata": {},
   "outputs": [],
   "source": [
    "import gf"
   ]
  },
  {
   "cell_type": "code",
   "execution_count": null,
   "id": "2cce5af5-0d1b-40c0-a9f2-01fd960eeb00",
   "metadata": {
    "tags": []
   },
   "outputs": [],
   "source": [
    "%load_ext autoreload\n",
    "%autoreload 2"
   ]
  },
  {
   "cell_type": "code",
   "execution_count": null,
   "id": "d8c48af6-5e3d-43c0-afe6-472088e4cd01",
   "metadata": {},
   "outputs": [],
   "source": [
    "import imageio as iio\n",
    "import numpy as np\n",
    "from matplotlib.pyplot import imshow\n",
    "import matplotlib.pyplot as plt\n",
    "plt.rcParams['figure.dpi'] = 200\n"
   ]
  },
  {
   "cell_type": "code",
   "execution_count": null,
   "id": "9af6dc3f-cad2-4c23-8ae5-d8cc36523795",
   "metadata": {},
   "outputs": [],
   "source": [
    "def to_image(im):\n",
    "    plt.axis('off')\n",
    "    if len(im.shape)>2:\n",
    "        imshow(im)\n",
    "    else:\n",
    "        imshow(im, cmap='gray')\n",
    "    plt.show()"
   ]
  },
  {
   "cell_type": "markdown",
   "id": "fe7c1b40-dc37-4e9a-98f4-8ca142ea4f39",
   "metadata": {},
   "source": [
    "## Image Fusion with Guided Filtering "
   ]
  },
  {
   "cell_type": "markdown",
   "id": "bf714324-ce60-4cf3-86ea-385cda20ca4d",
   "metadata": {},
   "source": [
    "### Guided filter"
   ]
  },
  {
   "cell_type": "code",
   "execution_count": null,
   "id": "78039779-930b-4c8d-af03-7788d1009c74",
   "metadata": {},
   "outputs": [],
   "source": [
    "im = iio.imread('../data/petrovic/fused012_1.tif')/255\n",
    "to_image(im)"
   ]
  },
  {
   "cell_type": "code",
   "execution_count": null,
   "id": "6d3b3b04-8244-4f57-8e47-f25725373a5d",
   "metadata": {},
   "outputs": [],
   "source": [
    "from gf.filters import guided_filter"
   ]
  },
  {
   "cell_type": "markdown",
   "id": "f7fcaf0d-fea0-4716-9398-aa5819e6a5d5",
   "metadata": {},
   "source": [
    "GF with grey input / grey guide"
   ]
  },
  {
   "cell_type": "code",
   "execution_count": null,
   "id": "d0586e6d-656a-4c9b-a688-fd14646858c9",
   "metadata": {},
   "outputs": [],
   "source": [
    "gf = guided_filter(im, im, 5, 0.1)\n",
    "to_image(gf)"
   ]
  },
  {
   "cell_type": "code",
   "execution_count": null,
   "id": "2d0623ba-5b41-4042-9e9b-a42e165010ba",
   "metadata": {},
   "outputs": [],
   "source": [
    "im2 = iio.imread('../data/lytro/lytro-01-A.jpg')/255\n",
    "to_image(im2)"
   ]
  },
  {
   "cell_type": "markdown",
   "id": "83b20560-9b1a-44d9-8908-9b326f8f74c6",
   "metadata": {},
   "source": [
    "GF with rgb input / grey guide"
   ]
  },
  {
   "cell_type": "code",
   "execution_count": null,
   "id": "acb3c193-a493-44b6-bf04-ddcfb849cbe0",
   "metadata": {},
   "outputs": [],
   "source": [
    "gf = guided_filter(im2, im2[:,:,0], 5,0.05)\n",
    "to_image(gf)"
   ]
  },
  {
   "cell_type": "markdown",
   "id": "df435247-b334-453e-8fa1-deb143ff56e2",
   "metadata": {},
   "source": [
    "GF with rgb input / rgb guide"
   ]
  },
  {
   "cell_type": "code",
   "execution_count": null,
   "id": "cc1356aa-e7d3-49e9-84d3-d6d0307688c2",
   "metadata": {},
   "outputs": [],
   "source": [
    "gf = guided_filter(im2, im2, 1,0.05)\n",
    "to_image(gf)"
   ]
  },
  {
   "cell_type": "code",
   "execution_count": null,
   "id": "a2c31e21-a1bd-43f4-a7af-d0c69b599677",
   "metadata": {},
   "outputs": [],
   "source": [
    "from gf.fusion import gff\n",
    "mygff = gff([im2])"
   ]
  },
  {
   "cell_type": "markdown",
   "id": "22b99f12-01fa-400b-865d-60fcddadd9ad",
   "metadata": {},
   "source": [
    "### Decomposition"
   ]
  },
  {
   "cell_type": "code",
   "execution_count": null,
   "id": "53163c16-6966-4670-bf2f-539c8d9b72e1",
   "metadata": {},
   "outputs": [],
   "source": [
    "b, d = mygff.decompose(im2)\n",
    "to_image(b)"
   ]
  },
  {
   "cell_type": "code",
   "execution_count": null,
   "id": "8d908f5a-70e2-4abe-a691-7023f2ed41cb",
   "metadata": {},
   "outputs": [],
   "source": [
    "md, Md = np.min(d), np.max(d)\n",
    "to_image((d-md)/(Md-md))"
   ]
  },
  {
   "cell_type": "markdown",
   "id": "f417acbc-baf5-4a44-85e7-c31a587c5e69",
   "metadata": {},
   "source": [
    "### Salicency map"
   ]
  },
  {
   "cell_type": "code",
   "execution_count": null,
   "id": "ae4ff1b4-f8d2-4a1b-9823-1215906214fa",
   "metadata": {},
   "outputs": [],
   "source": [
    "images_paths = ['../data/lytro/lytro-01-'+x+'.jpg' for x in ['A', 'B']]\n",
    "ims = [iio.imread(path)/255 for path in images_paths]\n",
    "for im in ims:\n",
    "    to_image(im)\n",
    "mygff = gff(ims)"
   ]
  },
  {
   "cell_type": "code",
   "execution_count": null,
   "id": "5cb7b700-6cec-45b0-828f-2bf21f158efa",
   "metadata": {},
   "outputs": [],
   "source": [
    "for im in ims:\n",
    "    to_image(mygff.saliency(im))"
   ]
  },
  {
   "cell_type": "markdown",
   "id": "bb9db0bd-9fa2-4815-b6cf-9d720ffafd46",
   "metadata": {},
   "source": [
    "### Weights"
   ]
  },
  {
   "cell_type": "code",
   "execution_count": null,
   "id": "94fb3605-eaab-42f2-a71d-72800edc970d",
   "metadata": {},
   "outputs": [],
   "source": [
    "weights = mygff.weight_maps(ims)\n",
    "to_image(weights[0])\n",
    "to_image(weights[1])"
   ]
  },
  {
   "cell_type": "markdown",
   "id": "24184b76-2d93-49ed-8fdf-a5488b74d4b3",
   "metadata": {},
   "source": [
    "### Fusion"
   ]
  },
  {
   "cell_type": "code",
   "execution_count": null,
   "id": "15ba9fdd-0ed8-40ad-aa09-a9b4e294e0c7",
   "metadata": {},
   "outputs": [],
   "source": [
    "f = mygff.fusion()\n",
    "to_image(f)"
   ]
  },
  {
   "cell_type": "markdown",
   "id": "2dc3b870-75d0-4853-9496-ab7a4e4ab2bb",
   "metadata": {},
   "source": [
    "## Experiments"
   ]
  },
  {
   "cell_type": "markdown",
   "id": "91cb9922-77d6-4543-923e-eb18f2123484",
   "metadata": {},
   "source": [
    "### Guided filter vs other filters"
   ]
  },
  {
   "cell_type": "markdown",
   "id": "6491116a-a7e2-415e-9e9a-42dbfa9390b1",
   "metadata": {},
   "source": [
    "bilateral filter"
   ]
  },
  {
   "cell_type": "code",
   "execution_count": null,
   "id": "e87c4420-9f01-4630-8a58-31719eb18d80",
   "metadata": {},
   "outputs": [],
   "source": [
    "from skimage.restoration import denoise_bilateral\n",
    "def mybilateral(p, i, r, eps):\n",
    "    return denoise_bilateral(p)"
   ]
  },
  {
   "cell_type": "code",
   "execution_count": null,
   "id": "19443745-7549-4872-b487-246d6086abb4",
   "metadata": {},
   "outputs": [],
   "source": [
    "f = mygff.fusion(filt=mybilateral)\n",
    "to_image(f)"
   ]
  },
  {
   "cell_type": "markdown",
   "id": "5b6221fb-7929-4914-b2e3-020d54f923b0",
   "metadata": {},
   "source": [
    "pas si mal... mais voir ce qu'il se passe avec l'HDR"
   ]
  },
  {
   "cell_type": "markdown",
   "id": "d377c225-a548-4fd4-ad76-7ef102dc4d4b",
   "metadata": {},
   "source": [
    "### No separation base/details"
   ]
  },
  {
   "cell_type": "code",
   "execution_count": null,
   "id": "9dfc1095-87f0-4922-b5da-815e1ab3473f",
   "metadata": {},
   "outputs": [],
   "source": [
    "f_ns = mygff.fusion_without_separation()\n",
    "to_image(f_ns)"
   ]
  },
  {
   "cell_type": "markdown",
   "id": "5654ea22-f019-473a-b626-48af08059d89",
   "metadata": {},
   "source": [
    "Le bout du club est plus flou ! Plus facile de voir ce qu'il se passe avec l'exposure fusion ?"
   ]
  },
  {
   "cell_type": "markdown",
   "id": "9bd72e2a-7775-4f7c-97e7-0a8690f7ae51",
   "metadata": {},
   "source": [
    "### Exposure fusion"
   ]
  },
  {
   "cell_type": "code",
   "execution_count": null,
   "id": "77895233-b226-46e3-881b-1ae051fd8a23",
   "metadata": {},
   "outputs": [],
   "source": [
    "images_paths = ['../data/MEFDatabase/source/Memorial_Debevec97/memorial00'+str(x)+'.png' \n",
    "                for x in range(61,77)]\n",
    "ims = [iio.imread(path)/255 for path in images_paths]\n",
    "mygff = gff(ims)"
   ]
  },
  {
   "cell_type": "code",
   "execution_count": null,
   "id": "0b7e3ac7-82fe-4108-895b-159dcb0d29ed",
   "metadata": {},
   "outputs": [],
   "source": [
    "f = mygff.fusion()\n",
    "to_image(f)"
   ]
  },
  {
   "cell_type": "markdown",
   "id": "23cf7393-b65c-4936-ad81-a03b559c7c02",
   "metadata": {},
   "source": [
    "with bilateral filter:"
   ]
  },
  {
   "cell_type": "code",
   "execution_count": null,
   "id": "999bca19-1be4-4b47-bbf1-caa60c97c808",
   "metadata": {},
   "outputs": [],
   "source": [
    "f = mygff.fusion(filt=mybilateral)\n",
    "to_image(f)"
   ]
  },
  {
   "cell_type": "markdown",
   "id": "47e204ff-0b05-45fd-8a2b-75e38418ca4b",
   "metadata": {},
   "source": [
    "without separation base/details:"
   ]
  },
  {
   "cell_type": "code",
   "execution_count": null,
   "id": "6435db2d-5656-4b98-826c-6a4c7b8ce1cf",
   "metadata": {},
   "outputs": [],
   "source": [
    "for r in [7,45]:\n",
    "    for eps in [1e-6, 0.3]:\n",
    "        print(f'r={r} and eps={eps}')\n",
    "        f = mygff.fusion_without_separation(r=r, eps=eps)\n",
    "        to_image(f)"
   ]
  },
  {
   "cell_type": "markdown",
   "id": "7dc9aec1-38ee-43be-93ef-c4875d827b15",
   "metadata": {},
   "source": [
    "r petit -> patches\n",
    "\n",
    "epsilon petit -> + homogène ?"
   ]
  },
  {
   "cell_type": "markdown",
   "id": "17898177-35b3-4f80-8dd5-a165f5ca84bb",
   "metadata": {},
   "source": [
    "### Other color spaces : HSV"
   ]
  },
  {
   "cell_type": "code",
   "execution_count": null,
   "id": "81a6f323-7533-467a-81b4-f45c8ac8ba38",
   "metadata": {},
   "outputs": [],
   "source": [
    "from matplotlib.colors import rgb_to_hsv, hsv_to_rgb"
   ]
  },
  {
   "cell_type": "code",
   "execution_count": null,
   "id": "da5b10bf-d6ba-40d3-87b2-4521a9069f60",
   "metadata": {
    "tags": []
   },
   "outputs": [],
   "source": [
    "images_paths = ['../data/lytro/lytro-01-'+x+'.jpg' for x in ['A', 'B']]\n",
    "ims = [rgb_to_hsv(iio.imread(path)/255) for path in images_paths]\n",
    "mygff = gff(ims, color='hsv')\n",
    "f = mygff.fusion()\n",
    "to_image(hsv_to_rgb(f))"
   ]
  },
  {
   "cell_type": "markdown",
   "id": "f887288e-a22d-4270-9d7a-3ce213e02391",
   "metadata": {},
   "source": [
    "En adaptant le filtre, cela fontionne aussi en HSV malgré les discontinuités dans le channel H (la teinte), dont les valeurs sont cycliques (0=1)."
   ]
  },
  {
   "cell_type": "code",
   "execution_count": null,
   "id": "b64c5892-e198-478a-8912-2d156abd5129",
   "metadata": {},
   "outputs": [],
   "source": [
    "im2 = iio.imread('../data/lytro/lytro-01-A.jpg')/255\n",
    "im2_hsv = rgb_to_hsv(im2)\n",
    "h, s, v = im2_hsv[:,:,0], im2_hsv[:,:,1], im2_hsv[:,:,2]\n",
    "to_image(h)"
   ]
  },
  {
   "cell_type": "code",
   "execution_count": null,
   "id": "f9724002-86b6-4725-8445-774d82049ecb",
   "metadata": {},
   "outputs": [],
   "source": []
  }
 ],
 "metadata": {
  "kernelspec": {
   "display_name": "Python 3",
   "language": "python",
   "name": "python3"
  },
  "language_info": {
   "codemirror_mode": {
    "name": "ipython",
    "version": 3
   },
   "file_extension": ".py",
   "mimetype": "text/x-python",
   "name": "python",
   "nbconvert_exporter": "python",
   "pygments_lexer": "ipython3",
   "version": "3.8.5"
  }
 },
 "nbformat": 4,
 "nbformat_minor": 5
}
