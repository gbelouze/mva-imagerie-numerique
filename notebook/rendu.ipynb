{
 "cells": [
  {
   "cell_type": "markdown",
   "id": "d4eb0960-30dc-4ea5-814d-9fc120e0f549",
   "metadata": {},
   "source": [
    "<h1>\n",
    "    <center>\n",
    "        <span style=\"font-family:Arial\">\n",
    "            Imagerie Numérique\n",
    "        </span>\n",
    "    </center>\n",
    "</h1>\n",
    "<h2>\n",
    "    <center>\n",
    "        <span style=\"font-family:Arial\">\n",
    "            Image Fusion with Guided Filtering\n",
    "        </span>\n",
    "    </center>\n",
    "</h2>\n",
    "MVA 2021,\n",
    "Gabriel Belouze & Raphaël Rozenberg"
   ]
  },
  {
   "cell_type": "markdown",
   "id": "825d2895-d1a5-458b-865b-278104f4d16f",
   "metadata": {},
   "source": [
    "## Setup"
   ]
  },
  {
   "cell_type": "code",
   "execution_count": null,
   "id": "f7ff6c2f-d1ac-4c94-aa00-aeb175b46156",
   "metadata": {},
   "outputs": [],
   "source": [
    "%load_ext autoreload\n",
    "%autoreload 2"
   ]
  },
  {
   "cell_type": "code",
   "execution_count": null,
   "id": "9c6f0443-303d-4e7e-9910-26f732fce224",
   "metadata": {},
   "outputs": [],
   "source": [
    "import numpy as np\n",
    "import matplotlib.pyplot as plt\n",
    "import imageio as iio\n",
    "from pathlib import Path\n",
    "\n",
    "# Our own implementation\n",
    "import gf.filters as filters\n",
    "import gf.data as data\n",
    "import gf.fusion as fusion"
   ]
  },
  {
   "cell_type": "code",
   "execution_count": null,
   "id": "83cbc82d-f959-4968-a514-905c547ad6c9",
   "metadata": {},
   "outputs": [],
   "source": [
    "import matplotlib as mpl\n",
    "mpl.rcParams['figure.dpi'] = 160\n",
    "mpl.rcParams['axes.spines.right'] = False\n",
    "mpl.rcParams['axes.spines.top'] = False"
   ]
  },
  {
   "cell_type": "markdown",
   "id": "15e5fc99-b43e-43cf-a24d-4c1bba3bad95",
   "metadata": {
    "tags": []
   },
   "source": [
    "## Table of content\n",
    "0. **[Preliminaries](#preliminaries)**\n",
    "1. **[Guided filtering](#guided-filtering)**\n",
    "    1. [Gray guide](#gf:gray-guide)\n",
    "    2. [RGB guide](#gf:rgb-guide)\n",
    "2. **[Image Fusion with guided filtering](#image-fusion)**\n",
    "    1. [Step by step](#fusion:step-by-step)\n",
    "    2. [Examples](#fusion:examples)\n",
    "3. **[Experiments](#experiments)**"
   ]
  },
  {
   "cell_type": "markdown",
   "id": "203a5efb-11bf-4588-82d9-3daa9cd8f2a2",
   "metadata": {
    "jp-MarkdownHeadingCollapsed": true,
    "tags": []
   },
   "source": [
    "# Preliminaries <a class=\"anchor\" id=\"preliminaries\"></a>"
   ]
  },
  {
   "cell_type": "markdown",
   "id": "bd3ec6c6-fe1a-4065-a851-902a41ce8568",
   "metadata": {
    "tags": []
   },
   "source": [
    "## Load data"
   ]
  },
  {
   "cell_type": "code",
   "execution_count": null,
   "id": "76ce6734-cd83-4311-aee4-d7af0ff7733e",
   "metadata": {},
   "outputs": [],
   "source": [
    "multi_exposure_dataset = data.MultiviewDataset(Path(\"../data/MEFDatabase/source/\"))\n",
    "multi_focus_dataset = data.MultiviewDataset(Path(\"../data/lytro\"))\n",
    "\n",
    "multi_exposure_sample = multi_exposure_dataset[0]\n",
    "multi_focus_sample = multi_focus_dataset[0]"
   ]
  },
  {
   "cell_type": "markdown",
   "id": "658a456c-1c8c-4ee7-b81e-26d049bfb04a",
   "metadata": {},
   "source": [
    "## Show data"
   ]
  },
  {
   "cell_type": "code",
   "execution_count": null,
   "id": "e3c30cb7-469f-49e8-b98d-667b372b1aa1",
   "metadata": {},
   "outputs": [],
   "source": [
    "def gray_to_rgb(im):\n",
    "    return np.stack([im, im, im], axis=-1)\n",
    "\n",
    "def plot_images(*ims):\n",
    "    plt.axis('off')\n",
    "\n",
    "    max_ndim = max([im.ndim for im in ims])\n",
    "    if max_ndim == 3:\n",
    "        ims = [im if im.ndim == 3 else gray_to_rgb(im) for im in ims]\n",
    "        \n",
    "    im = np.hstack(ims)\n",
    "    if im.ndim == 3:\n",
    "        plt.imshow(im)\n",
    "    else:\n",
    "        plt.imshow(im, cmap='gray')"
   ]
  },
  {
   "cell_type": "code",
   "execution_count": null,
   "id": "cf55f8d0-ad5d-4fa7-ae3e-c27d4afe98d7",
   "metadata": {},
   "outputs": [],
   "source": [
    "plot_images(*multi_exposure_sample)"
   ]
  },
  {
   "cell_type": "code",
   "execution_count": null,
   "id": "2617f237-fc63-47d6-ac0d-68adf71b98cc",
   "metadata": {},
   "outputs": [],
   "source": [
    "plot_images(*multi_focus_sample)"
   ]
  },
  {
   "cell_type": "markdown",
   "id": "9e2890ad-772a-4def-9532-f6a3b0517793",
   "metadata": {
    "tags": []
   },
   "source": [
    "# Guided filtering <a class=\"anchor\" id=\"guided-filtering\"></a>"
   ]
  },
  {
   "cell_type": "markdown",
   "id": "c3c3671e-2ce9-47f3-a478-7d0b152bf5fa",
   "metadata": {},
   "source": [
    "![](images/guided_filter_schematic.png)"
   ]
  },
  {
   "cell_type": "markdown",
   "id": "1ed50094-f880-4e6e-8bf2-6b96cbb45880",
   "metadata": {
    "jp-MarkdownHeadingCollapsed": true,
    "tags": []
   },
   "source": [
    "## Gray guide <a class=\"anchor\" id=\"gf:gray-guide\"></a>"
   ]
  },
  {
   "cell_type": "code",
   "execution_count": null,
   "id": "00a5a736-5d24-46ea-a33a-dd583f79d47d",
   "metadata": {},
   "outputs": [],
   "source": [
    "input = multi_focus_sample[0].mean(axis=-1)\n",
    "guide = multi_focus_sample[1].mean(axis=-1)\n",
    "output = filters.guided_filter(input, guide, r=20, eps=5e-2)"
   ]
  },
  {
   "cell_type": "code",
   "execution_count": null,
   "id": "1db043dc-d7c4-4c02-845a-4ef61b96e3cf",
   "metadata": {},
   "outputs": [],
   "source": [
    "plot_images(input, guide, output)"
   ]
  },
  {
   "cell_type": "markdown",
   "id": "2f2321a2-1883-4c55-a096-e9ee2a4b3582",
   "metadata": {},
   "source": [
    "Notably, the edges of the buildings in the backgrounds remain sharp."
   ]
  },
  {
   "cell_type": "markdown",
   "id": "45a230a1-df3d-4d5f-8d43-22f7cdcb7651",
   "metadata": {
    "jp-MarkdownHeadingCollapsed": true,
    "tags": []
   },
   "source": [
    "## RGB guide <a class=\"anchor\" id=\"gf:rgb-guide\"></a>"
   ]
  },
  {
   "cell_type": "code",
   "execution_count": null,
   "id": "698d176a-6c84-49bc-8b19-82c802cc119f",
   "metadata": {},
   "outputs": [],
   "source": [
    "input = multi_focus_sample[0]\n",
    "guide = multi_focus_sample[1]\n",
    "output = filters.guided_filter(input, guide, r=20, eps=5e-2)"
   ]
  },
  {
   "cell_type": "code",
   "execution_count": null,
   "id": "7fcea546-0a9d-4e6f-8a5f-a4ae4b9ce886",
   "metadata": {},
   "outputs": [],
   "source": [
    "plot_images(input, guide, output)"
   ]
  },
  {
   "cell_type": "markdown",
   "id": "3ff8f33a-c73d-4c5d-a118-c83463a49cbe",
   "metadata": {
    "tags": []
   },
   "source": [
    "# Image fusion with guided filtering <a class=\"anchor\" id=\"image-fusion\"></a>"
   ]
  },
  {
   "cell_type": "markdown",
   "id": "1b846fbf-5c5a-4e7b-8351-704dd15bfa12",
   "metadata": {},
   "source": [
    "![](images/image_fusion_schematic.png)"
   ]
  },
  {
   "cell_type": "markdown",
   "id": "7a1e9f2c-4e0f-45fc-bbfd-9d20123b086a",
   "metadata": {
    "tags": []
   },
   "source": [
    "## Step by step <a class=\"anchor\" id=\"fusion:step-by-step\"></a>"
   ]
  },
  {
   "cell_type": "markdown",
   "id": "7794d5c1-19f4-44d9-a9ab-da8a4ab1f2ac",
   "metadata": {},
   "source": [
    "#### Base / Detail decomposition\n",
    "First images are split into a base layer and a detail layer. Each layer is then treated independantly, and fused back in only at the very end."
   ]
  },
  {
   "cell_type": "code",
   "execution_count": null,
   "id": "7e448666-d324-4f07-8d12-27890a44ee3f",
   "metadata": {},
   "outputs": [],
   "source": [
    "# TODO illustrate with code"
   ]
  },
  {
   "cell_type": "markdown",
   "id": "82e8a561-a006-4257-913a-ce2c4847fc4a",
   "metadata": {},
   "source": [
    "#### Weight map\n",
    "Weight maps are constructed to be $1$ at pixel $i$ if the image has the highest saliency (i.e. gradient norm) at pixel $i$, and $0$ otherwise."
   ]
  },
  {
   "cell_type": "code",
   "execution_count": null,
   "id": "0982b868-2ad5-4940-9d8c-2ae63301534b",
   "metadata": {},
   "outputs": [],
   "source": [
    "# TODO illustrate with code"
   ]
  },
  {
   "cell_type": "markdown",
   "id": "3dc96065-26da-4e2e-91dc-4c3fd513391a",
   "metadata": {},
   "source": [
    "#### Refined weight map\n",
    "The key idea is to use guided filtering with the original image as guidance. This is in particular useful to edge-align weight maps."
   ]
  },
  {
   "cell_type": "code",
   "execution_count": null,
   "id": "23a7c709-6f54-4d1d-a8e7-9b451752d2ee",
   "metadata": {},
   "outputs": [],
   "source": [
    "# TODO illustrate with code"
   ]
  },
  {
   "cell_type": "markdown",
   "id": "d62f2ad2-925b-41e6-b94d-4f68485eee05",
   "metadata": {},
   "source": [
    "#### Fusion\n",
    "Those refined weight maps are used to add images in each layers. Finally, the layers are added up to produce a single final image."
   ]
  },
  {
   "cell_type": "code",
   "execution_count": null,
   "id": "22c8dae6-8a84-4f36-ae0a-030952d24f44",
   "metadata": {
    "tags": []
   },
   "outputs": [],
   "source": [
    "# TODO illustrate with code"
   ]
  },
  {
   "cell_type": "markdown",
   "id": "70cccba6-1302-43b4-a458-3ffb6655d90c",
   "metadata": {},
   "source": [
    "## Examples <a class=\"anchor\" id=\"fusion:examples\"></a>"
   ]
  },
  {
   "cell_type": "code",
   "execution_count": null,
   "id": "0d88155b-6698-466d-97f8-39318ea0a1ab",
   "metadata": {},
   "outputs": [],
   "source": [
    "exposure_gff = fusion.gff(multi_exposure_sample)\n",
    "multi_exposure_fused = exposure_gff.fusion()\n",
    "\n",
    "focus_gff = fusion.gff(multi_focus_sample)\n",
    "multi_focus_fused = focus_gff.fusion()"
   ]
  },
  {
   "cell_type": "code",
   "execution_count": null,
   "id": "bba2f39f-e5ab-43ba-9d03-5240c4b6260d",
   "metadata": {},
   "outputs": [],
   "source": [
    "plot_images(*multi_exposure_sample, multi_exposure_fused)\n",
    "plt.show()\n",
    "\n",
    "plot_images(*multi_focus_sample, multi_focus_fused)\n",
    "plt.show()"
   ]
  },
  {
   "cell_type": "markdown",
   "id": "cddcc0f7-d6c9-4bd6-9497-3fc4c0aa2fca",
   "metadata": {},
   "source": [
    "Conclusion : it is extremely cool"
   ]
  },
  {
   "cell_type": "markdown",
   "id": "83b58a63-34ea-4f70-bfd6-b77c1fe0e638",
   "metadata": {
    "tags": []
   },
   "source": [
    "# Experiments <a class=\"anchor\" id=\"experiments\"></a>"
   ]
  },
  {
   "cell_type": "markdown",
   "id": "a79c9fcb-65d2-4f20-ac55-376517f9dbe1",
   "metadata": {},
   "source": [
    "## Averaging the coefficients $a$ and $b$\n",
    "\n",
    "In guided filtering, the final value for $O_i$ is averaged over all windows where $O_i$ was computed. This amounts to averaging the coefficients :\n",
    "$$O_i = \\bar{a}_i O_i + \\bar{b}_i$$\n",
    "What happens if we skip the averaging step and instead choose $O_i = a_i I_i + b_i$ ?"
   ]
  },
  {
   "cell_type": "code",
   "execution_count": null,
   "id": "debf6b3f-09d7-46a0-8b5e-e7a8f7a13865",
   "metadata": {},
   "outputs": [],
   "source": [
    "input = multi_focus_sample[0].mean(axis=-1)\n",
    "guide = multi_focus_sample[1].mean(axis=-1)\n",
    "output = filters.guided_filter(input, guide, r=20, eps=5e-2, average_in_window=False)"
   ]
  },
  {
   "cell_type": "code",
   "execution_count": null,
   "id": "bdbca557-bde8-45b1-ad12-6b3f2840a516",
   "metadata": {},
   "outputs": [],
   "source": [
    "plot_images(input, guide, output)"
   ]
  },
  {
   "cell_type": "markdown",
   "id": "106c399d-3c48-4873-9b3f-baaa06d5580a",
   "metadata": {},
   "source": [
    "There is a shadowing effect (look around the hat and the background buildings). TODO why ?"
   ]
  }
 ],
 "metadata": {
  "kernelspec": {
   "display_name": "imnum",
   "language": "python",
   "name": "imnum"
  },
  "language_info": {
   "codemirror_mode": {
    "name": "ipython",
    "version": 3
   },
   "file_extension": ".py",
   "mimetype": "text/x-python",
   "name": "python",
   "nbconvert_exporter": "python",
   "pygments_lexer": "ipython3",
   "version": "3.9.10"
  }
 },
 "nbformat": 4,
 "nbformat_minor": 5
}
